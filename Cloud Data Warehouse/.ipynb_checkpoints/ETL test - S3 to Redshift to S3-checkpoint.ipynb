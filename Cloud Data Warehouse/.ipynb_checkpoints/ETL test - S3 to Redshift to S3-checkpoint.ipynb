{
 "cells": [
  {
   "cell_type": "code",
   "execution_count": null,
   "metadata": {
    "ExecuteTime": {
     "end_time": "2020-04-29T22:00:47.965038Z",
     "start_time": "2020-04-29T22:00:47.822147Z"
    }
   },
   "outputs": [],
   "source": [
    "import pandas as pd\n",
    "import boto3\n",
    "import json\n",
    "import configparser"
   ]
  },
  {
   "cell_type": "code",
   "execution_count": null,
   "metadata": {
    "ExecuteTime": {
     "end_time": "2020-04-29T22:20:47.288364Z",
     "start_time": "2020-04-29T22:20:47.276384Z"
    }
   },
   "outputs": [],
   "source": [
    "config = configparser.ConfigParser()\n",
    "config.read_file(open('dwh.cfg'))\n",
    "\n",
    "KEY                    = config.get('AWS','KEY')\n",
    "SECRET                 = config.get('AWS','SECRET')\n",
    "\n",
    "DWH_ENDPOINT           = config.get(\"CLUSTER\",\"HOST\")\n",
    "DWH_DB                 = config.get(\"CLUSTER\",\"DB_NAME\")\n",
    "DWH_DB_USER            = config.get(\"CLUSTER\",\"DB_USER\")\n",
    "DWH_DB_PASSWORD        = config.get(\"CLUSTER\",\"DB_PASSWORD\")\n",
    "DWH_PORT               = config.get(\"CLUSTER\",\"DB_PORT\")\n",
    "\n",
    "LOG_DATA = config.get(\"S3\",\"LOG_DATA\")\n",
    "LOG_PATH = config.get(\"S3\", \"LOG_JSONPATH\")\n",
    "SONG_DATA = config.get(\"S3\", \"SONG_DATA\")\n",
    "MY_LOG_DATA = config.get('S3', 'MY_S3_LOG_DATA')\n",
    "IAM_ROLE = config.get(\"IAM_ROLE\",\"ARN\")"
   ]
  },
  {
   "cell_type": "code",
   "execution_count": null,
   "metadata": {
    "ExecuteTime": {
     "end_time": "2020-04-29T22:05:28.202431Z",
     "start_time": "2020-04-29T22:05:28.197443Z"
    }
   },
   "outputs": [],
   "source": [
    "%load_ext sql"
   ]
  },
  {
   "cell_type": "code",
   "execution_count": null,
   "metadata": {
    "ExecuteTime": {
     "end_time": "2020-04-29T22:05:32.578066Z",
     "start_time": "2020-04-29T22:05:28.452753Z"
    }
   },
   "outputs": [],
   "source": [
    "conn_string=\"postgresql://{}:{}@{}:{}/{}\".format(DWH_DB_USER, DWH_DB_PASSWORD, DWH_ENDPOINT, DWH_PORT,DWH_DB)\n",
    "print(conn_string)\n",
    "%sql $conn_string"
   ]
  },
  {
   "cell_type": "code",
   "execution_count": null,
   "metadata": {
    "ExecuteTime": {
     "end_time": "2020-04-29T22:21:37.192087Z",
     "start_time": "2020-04-29T22:21:36.053418Z"
    }
   },
   "outputs": [],
   "source": [
    "staging_events_copy = (\"\"\"\n",
    "    COPY staging_events FROM {}\n",
    "    CREDENTIALS 'aws_iam_role={}'\n",
    "    COMPUPDATE OFF region 'us-east-2'\n",
    "    TIMEFORMAT as 'epochmillisecs'\n",
    "    TRUNCATECOLUMNS BLANKSASNULL EMPTYASNULL\n",
    "    DELIMITER ';';\n",
    "\"\"\").format(MY_LOG_DATA, IAM_ROLE)\n",
    "%sql $staging_events_copy"
   ]
  },
  {
   "cell_type": "code",
   "execution_count": null,
   "metadata": {
    "ExecuteTime": {
     "end_time": "2020-04-29T22:18:15.275853Z",
     "start_time": "2020-04-29T22:18:14.553Z"
    }
   },
   "outputs": [],
   "source": [
    "%%sql\n",
    "SELECT COUNT(*) FROM staging_events;"
   ]
  },
  {
   "cell_type": "code",
   "execution_count": null,
   "metadata": {},
   "outputs": [],
   "source": []
  }
 ],
 "metadata": {
  "kernelspec": {
   "display_name": "Python 3",
   "language": "python",
   "name": "python3"
  },
  "language_info": {
   "codemirror_mode": {
    "name": "ipython",
    "version": 3
   },
   "file_extension": ".py",
   "mimetype": "text/x-python",
   "name": "python",
   "nbconvert_exporter": "python",
   "pygments_lexer": "ipython3",
   "version": "3.7.4"
  }
 },
 "nbformat": 4,
 "nbformat_minor": 2
}
